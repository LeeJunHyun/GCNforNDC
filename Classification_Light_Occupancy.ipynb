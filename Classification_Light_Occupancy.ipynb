{
 "cells": [
  {
   "cell_type": "code",
   "execution_count": 1,
   "metadata": {},
   "outputs": [
    {
     "name": "stdout",
     "output_type": "stream",
     "text": [
      "<Training Dataset>\n",
      "Correct : 8044\n",
      "Total : 8143\n",
      "Accuracy : 98.78\n"
     ]
    }
   ],
   "source": [
    "f = open(\"../occupancy_data/datatraining.txt\", 'r')\n",
    "\n",
    "occupancy_data = []\n",
    "Temperature = []\n",
    "Humid = []\n",
    "Light = []\n",
    "CO2 = []\n",
    "H_Ratio = []\n",
    "Occupancy =[]\n",
    "count=0\n",
    "while True:\n",
    "    line = f.readline()\n",
    "    if not line: break\n",
    "    if count is 0:\n",
    "        pass\n",
    "    else:   \n",
    "        occupancy_data.append(line.split(',')[1:][:-1])\n",
    "        Temperature.append(float(occupancy_data[-1][1]))\n",
    "        Humid.append(float(occupancy_data[-1][2]))\n",
    "        Light.append(float(occupancy_data[-1][3]))\n",
    "        CO2.append(float(occupancy_data[-1][4]))\n",
    "        H_Ratio.append(float(occupancy_data[-1][5]))\n",
    "        Occupancy.append(float(line.split(',')[1:][-1][0]))\n",
    "    count += 1\n",
    "f.close()\n",
    "\n",
    "correct = 0\n",
    "for idx,light in enumerate(Light):\n",
    "    if light>365 and Occupancy[idx] ==1:\n",
    "        correct+=1\n",
    "    if light<=365 and Occupancy[idx] ==0:\n",
    "        correct+=1\n",
    "        \n",
    "print('<Training Dataset>')\n",
    "print('Correct : %d'%correct)\n",
    "print('Total : %d'%len(Light))\n",
    "print('Accuracy : %0.2f'%(correct/len(Light)*100))"
   ]
  },
  {
   "cell_type": "code",
   "execution_count": 2,
   "metadata": {},
   "outputs": [
    {
     "name": "stdout",
     "output_type": "stream",
     "text": [
      "<Test Dataset 1>\n",
      "Correct : 2608\n",
      "Total : 2665\n",
      "Accuracy : 97.86\n"
     ]
    }
   ],
   "source": [
    "f = open(\"../occupancy_data/datatest.txt\", 'r')\n",
    "\n",
    "occupancy_data = []\n",
    "Temperature = []\n",
    "Humid = []\n",
    "Light = []\n",
    "CO2 = []\n",
    "H_Ratio = []\n",
    "Occupancy =[]\n",
    "count=0\n",
    "while True:\n",
    "    line = f.readline()\n",
    "    if not line: break\n",
    "    if count is 0:\n",
    "        pass\n",
    "    else:   \n",
    "        occupancy_data.append(line.split(',')[1:][:-1])\n",
    "        Temperature.append(float(occupancy_data[-1][1]))\n",
    "        Humid.append(float(occupancy_data[-1][2]))\n",
    "        Light.append(float(occupancy_data[-1][3]))\n",
    "        CO2.append(float(occupancy_data[-1][4]))\n",
    "        H_Ratio.append(float(occupancy_data[-1][5]))\n",
    "        Occupancy.append(float(line.split(',')[1:][-1][0]))\n",
    "    count += 1\n",
    "f.close()\n",
    "\n",
    "correct = 0\n",
    "for idx,light in enumerate(Light):\n",
    "    if light>365 and Occupancy[idx] ==1:\n",
    "        correct+=1\n",
    "    if light<=365 and Occupancy[idx] ==0:\n",
    "        correct+=1\n",
    "        \n",
    "print('<Test Dataset 1>')\n",
    "print('Correct : %d'%correct)\n",
    "print('Total : %d'%len(Light))\n",
    "print('Accuracy : %0.2f'%(correct/len(Light)*100))"
   ]
  },
  {
   "cell_type": "code",
   "execution_count": 3,
   "metadata": {},
   "outputs": [
    {
     "name": "stdout",
     "output_type": "stream",
     "text": [
      "<Test Dataset 2>\n",
      "Correct : 9685\n",
      "Total : 9752\n",
      "Accuracy : 99.31\n"
     ]
    }
   ],
   "source": [
    "f = open(\"../occupancy_data/datatest2.txt\", 'r')\n",
    "\n",
    "occupancy_data = []\n",
    "Temperature = []\n",
    "Humid = []\n",
    "Light = []\n",
    "CO2 = []\n",
    "H_Ratio = []\n",
    "Occupancy =[]\n",
    "count=0\n",
    "while True:\n",
    "    line = f.readline()\n",
    "    if not line: break\n",
    "    if count is 0:\n",
    "        pass\n",
    "    else:   \n",
    "        occupancy_data.append(line.split(',')[1:][:-1])\n",
    "        Temperature.append(float(occupancy_data[-1][1]))\n",
    "        Humid.append(float(occupancy_data[-1][2]))\n",
    "        Light.append(float(occupancy_data[-1][3]))\n",
    "        CO2.append(float(occupancy_data[-1][4]))\n",
    "        H_Ratio.append(float(occupancy_data[-1][5]))\n",
    "        Occupancy.append(float(line.split(',')[1:][-1][0]))\n",
    "    count += 1\n",
    "f.close()\n",
    "\n",
    "correct = 0\n",
    "for idx,light in enumerate(Light):\n",
    "    if light>365 and Occupancy[idx] ==1:\n",
    "        correct+=1\n",
    "    if light<=365 and Occupancy[idx] ==0:\n",
    "        correct+=1\n",
    "        \n",
    "print('<Test Dataset 2>')\n",
    "print('Correct : %d'%correct)\n",
    "print('Total : %d'%len(Light))\n",
    "print('Accuracy : %0.2f'%(correct/len(Light)*100))"
   ]
  },
  {
   "cell_type": "code",
   "execution_count": null,
   "metadata": {},
   "outputs": [],
   "source": []
  }
 ],
 "metadata": {
  "kernelspec": {
   "display_name": "Python 3",
   "language": "python",
   "name": "python3"
  },
  "language_info": {
   "codemirror_mode": {
    "name": "ipython",
    "version": 3
   },
   "file_extension": ".py",
   "mimetype": "text/x-python",
   "name": "python",
   "nbconvert_exporter": "python",
   "pygments_lexer": "ipython3",
   "version": "3.5.2"
  }
 },
 "nbformat": 4,
 "nbformat_minor": 2
}
